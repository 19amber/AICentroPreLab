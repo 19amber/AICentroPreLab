{
 "cells": [
  {
   "cell_type": "markdown",
   "metadata": {},
   "source": [
    "Trains a simple deep NN on the MNIST dataset.\n",
    "\n",
    "Gets to 98.40% test accuracy after 20 epochs\n",
    "(there is *a lot* of margin for parameter tuning).\n",
    "2 seconds per epoch on a K520 GPU.\n"
   ]
  },
  {
   "cell_type": "code",
   "execution_count": 1,
   "metadata": {},
   "outputs": [],
   "source": [
    "from __future__ import print_function\n",
    "\n",
    "from tensorflow.python import keras\n",
    "from tensorflow.python.keras.datasets import mnist\n",
    "from tensorflow.python.keras.models import Sequential\n",
    "from tensorflow.python.keras.layers import Dense, Dropout\n",
    "from tensorflow.python.keras.optimizers import RMSprop"
   ]
  },
  {
   "cell_type": "code",
   "execution_count": 2,
   "metadata": {},
   "outputs": [],
   "source": [
    "batch_size = 128\n",
    "num_classes = 10\n",
    "epochs = 20"
   ]
  },
  {
   "cell_type": "code",
   "execution_count": 3,
   "metadata": {},
   "outputs": [
    {
     "name": "stdout",
     "output_type": "stream",
     "text": [
      "Downloading data from https://storage.googleapis.com/tensorflow/tf-keras-datasets/mnist.npz\n",
      "11493376/11490434 [==============================] - 2s 0us/step\n"
     ]
    },
    {
     "data": {
      "text/plain": [
       "array([[0., 0., 0., ..., 0., 0., 0.],\n",
       "       [1., 0., 0., ..., 0., 0., 0.],\n",
       "       [0., 0., 0., ..., 0., 0., 0.],\n",
       "       ...,\n",
       "       [0., 0., 0., ..., 0., 0., 0.],\n",
       "       [0., 0., 0., ..., 0., 0., 0.],\n",
       "       [0., 0., 0., ..., 0., 1., 0.]], dtype=float32)"
      ]
     },
     "execution_count": 3,
     "metadata": {},
     "output_type": "execute_result"
    }
   ],
   "source": [
    "# # the data, split between train and test sets\n",
    "(x_train, y_train), (x_test, y_test) = mnist.load_data()\n",
    "# x_train = x_train.reshape(60000, 784)\n",
    "# x_test = x_test.reshape(10000, 784)\n",
    "# x_train = x_train.astype('float32')\n",
    "# x_test = x_test.astype('float32')\n",
    "# x_train /= 255\n",
    "# x_test /= 255\n",
    "# print(x_train.shape[0], 'train samples')\n",
    "# print(x_test.shape[0], 'test samples')\n",
    "\n",
    "# # convert class vectors to binary class matrices\n",
    "y_train = keras.utils.to_categorical(y_train, num_classes)\n",
    "# y_test = keras.utils.to_categorical(y_test, num_classes)\n",
    "y_train\n",
    "\n",
    "\n",
    "# print(x_train.shape,y_train.shape,x_test.shape,y_test.shape)"
   ]
  },
  {
   "cell_type": "code",
   "execution_count": 4,
   "metadata": {},
   "outputs": [
    {
     "name": "stderr",
     "output_type": "stream",
     "text": [
      "WARNING: Logging before flag parsing goes to stderr.\n",
      "W0603 02:01:37.145154 140358051018560 deprecation.py:323] From <ipython-input-4-451e2c36d0ff>:2: read_data_sets (from tensorflow.contrib.learn.python.learn.datasets.mnist) is deprecated and will be removed in a future version.\n",
      "Instructions for updating:\n",
      "Please use alternatives such as official/mnist/dataset.py from tensorflow/models.\n",
      "W0603 02:01:37.146416 140358051018560 deprecation.py:323] From /usr/local/lib/python3.6/dist-packages/tensorflow/contrib/learn/python/learn/datasets/mnist.py:260: maybe_download (from tensorflow.contrib.learn.python.learn.datasets.base) is deprecated and will be removed in a future version.\n",
      "Instructions for updating:\n",
      "Please write your own downloading logic.\n",
      "W0603 02:01:37.149684 140358051018560 deprecation.py:323] From /usr/local/lib/python3.6/dist-packages/tensorflow/contrib/learn/python/learn/datasets/base.py:252: _internal_retry.<locals>.wrap.<locals>.wrapped_fn (from tensorflow.contrib.learn.python.learn.datasets.base) is deprecated and will be removed in a future version.\n",
      "Instructions for updating:\n",
      "Please use urllib or similar directly.\n",
      "W0603 02:01:39.393893 140358051018560 deprecation.py:323] From /usr/local/lib/python3.6/dist-packages/tensorflow/contrib/learn/python/learn/datasets/mnist.py:262: extract_images (from tensorflow.contrib.learn.python.learn.datasets.mnist) is deprecated and will be removed in a future version.\n",
      "Instructions for updating:\n",
      "Please use tf.data to implement this functionality.\n"
     ]
    },
    {
     "name": "stdout",
     "output_type": "stream",
     "text": [
      "Successfully downloaded train-images-idx3-ubyte.gz 9912422 bytes.\n",
      "Extracting ./data/train-images-idx3-ubyte.gz\n"
     ]
    },
    {
     "name": "stderr",
     "output_type": "stream",
     "text": [
      "W0603 02:01:39.830322 140358051018560 deprecation.py:323] From /usr/local/lib/python3.6/dist-packages/tensorflow/contrib/learn/python/learn/datasets/mnist.py:267: extract_labels (from tensorflow.contrib.learn.python.learn.datasets.mnist) is deprecated and will be removed in a future version.\n",
      "Instructions for updating:\n",
      "Please use tf.data to implement this functionality.\n",
      "W0603 02:01:39.837467 140358051018560 deprecation.py:323] From /usr/local/lib/python3.6/dist-packages/tensorflow/contrib/learn/python/learn/datasets/mnist.py:110: dense_to_one_hot (from tensorflow.contrib.learn.python.learn.datasets.mnist) is deprecated and will be removed in a future version.\n",
      "Instructions for updating:\n",
      "Please use tf.one_hot on tensors.\n"
     ]
    },
    {
     "name": "stdout",
     "output_type": "stream",
     "text": [
      "Successfully downloaded train-labels-idx1-ubyte.gz 28881 bytes.\n",
      "Extracting ./data/train-labels-idx1-ubyte.gz\n",
      "Successfully downloaded t10k-images-idx3-ubyte.gz 1648877 bytes.\n",
      "Extracting ./data/t10k-images-idx3-ubyte.gz\n"
     ]
    },
    {
     "name": "stderr",
     "output_type": "stream",
     "text": [
      "W0603 02:01:40.177506 140358051018560 deprecation.py:323] From /usr/local/lib/python3.6/dist-packages/tensorflow/contrib/learn/python/learn/datasets/mnist.py:290: DataSet.__init__ (from tensorflow.contrib.learn.python.learn.datasets.mnist) is deprecated and will be removed in a future version.\n",
      "Instructions for updating:\n",
      "Please use alternatives such as official/mnist/dataset.py from tensorflow/models.\n"
     ]
    },
    {
     "name": "stdout",
     "output_type": "stream",
     "text": [
      "Successfully downloaded t10k-labels-idx1-ubyte.gz 4542 bytes.\n",
      "Extracting ./data/t10k-labels-idx1-ubyte.gz\n",
      "(55000, 784) (55000, 10) (10000, 784) (10000, 10)\n"
     ]
    }
   ],
   "source": [
    "from tensorflow.examples.tutorials.mnist import input_data\n",
    "m = input_data.read_data_sets('./data', one_hot=True)\n",
    "x_train=m.train.images\n",
    "y_train=m.train.labels\n",
    "x_test=m.test.images\n",
    "y_test=m.test.labels\n",
    "print(x_train.shape,y_train.shape,x_test.shape,y_test.shape)"
   ]
  },
  {
   "cell_type": "code",
   "execution_count": 5,
   "metadata": {},
   "outputs": [
    {
     "name": "stderr",
     "output_type": "stream",
     "text": [
      "W0603 02:01:40.402147 140358051018560 deprecation.py:506] From /usr/local/lib/python3.6/dist-packages/tensorflow/python/ops/init_ops.py:1251: calling VarianceScaling.__init__ (from tensorflow.python.ops.init_ops) with dtype is deprecated and will be removed in a future version.\n",
      "Instructions for updating:\n",
      "Call initializer instance with the dtype argument instead of passing it to the constructor\n"
     ]
    },
    {
     "name": "stdout",
     "output_type": "stream",
     "text": [
      "Model: \"sequential\"\n",
      "_________________________________________________________________\n",
      "Layer (type)                 Output Shape              Param #   \n",
      "=================================================================\n",
      "dense (Dense)                (None, 512)               401920    \n",
      "_________________________________________________________________\n",
      "dropout (Dropout)            (None, 512)               0         \n",
      "_________________________________________________________________\n",
      "dense_1 (Dense)              (None, 512)               262656    \n",
      "_________________________________________________________________\n",
      "dropout_1 (Dropout)          (None, 512)               0         \n",
      "_________________________________________________________________\n",
      "dense_2 (Dense)              (None, 10)                5130      \n",
      "=================================================================\n",
      "Total params: 669,706\n",
      "Trainable params: 669,706\n",
      "Non-trainable params: 0\n",
      "_________________________________________________________________\n"
     ]
    }
   ],
   "source": [
    "model = Sequential()\n",
    "model.add(Dense(512, activation='relu', input_shape=(784,)))\n",
    "model.add(Dropout(0.2))\n",
    "model.add(Dense(512, activation='relu'))\n",
    "model.add(Dropout(0.2))\n",
    "model.add(Dense(num_classes, activation='softmax'))\n",
    "\n",
    "model.summary()\n",
    "\n",
    "model.compile(loss='categorical_crossentropy',\n",
    "              optimizer=RMSprop(),\n",
    "              metrics=['accuracy'])"
   ]
  },
  {
   "cell_type": "code",
   "execution_count": 6,
   "metadata": {},
   "outputs": [
    {
     "name": "stdout",
     "output_type": "stream",
     "text": [
      "Train on 55000 samples, validate on 10000 samples\n",
      "Epoch 1/20\n",
      "55000/55000 [==============================] - 11s 192us/sample - loss: 0.2577 - acc: 0.9195 - val_loss: 0.1179 - val_acc: 0.9632\n",
      "Epoch 2/20\n",
      "55000/55000 [==============================] - 10s 187us/sample - loss: 0.1055 - acc: 0.9683 - val_loss: 0.0809 - val_acc: 0.9750\n",
      "Epoch 3/20\n",
      "55000/55000 [==============================] - 11s 198us/sample - loss: 0.0772 - acc: 0.9763 - val_loss: 0.0869 - val_acc: 0.9762\n",
      "Epoch 4/20\n",
      "55000/55000 [==============================] - 10s 191us/sample - loss: 0.0597 - acc: 0.9818 - val_loss: 0.0743 - val_acc: 0.9788\n",
      "Epoch 5/20\n",
      "55000/55000 [==============================] - 11s 193us/sample - loss: 0.0491 - acc: 0.9849 - val_loss: 0.0725 - val_acc: 0.9810\n",
      "Epoch 6/20\n",
      "55000/55000 [==============================] - 11s 193us/sample - loss: 0.0437 - acc: 0.9869 - val_loss: 0.0836 - val_acc: 0.9809\n",
      "Epoch 7/20\n",
      "55000/55000 [==============================] - 10s 190us/sample - loss: 0.0374 - acc: 0.9886 - val_loss: 0.0846 - val_acc: 0.9818\n",
      "Epoch 8/20\n",
      "55000/55000 [==============================] - 11s 191us/sample - loss: 0.0320 - acc: 0.9905 - val_loss: 0.0864 - val_acc: 0.9824\n",
      "Epoch 9/20\n",
      "55000/55000 [==============================] - 11s 191us/sample - loss: 0.0301 - acc: 0.9914 - val_loss: 0.0956 - val_acc: 0.9792\n",
      "Epoch 10/20\n",
      "55000/55000 [==============================] - 10s 190us/sample - loss: 0.0277 - acc: 0.9916 - val_loss: 0.0844 - val_acc: 0.9818\n",
      "Epoch 11/20\n",
      "55000/55000 [==============================] - 11s 193us/sample - loss: 0.0249 - acc: 0.9924 - val_loss: 0.1092 - val_acc: 0.9806\n",
      "Epoch 12/20\n",
      "55000/55000 [==============================] - 11s 193us/sample - loss: 0.0222 - acc: 0.9934 - val_loss: 0.0997 - val_acc: 0.9827\n",
      "Epoch 13/20\n",
      "55000/55000 [==============================] - 11s 194us/sample - loss: 0.0230 - acc: 0.9936 - val_loss: 0.0991 - val_acc: 0.9829\n",
      "Epoch 14/20\n",
      "55000/55000 [==============================] - 11s 193us/sample - loss: 0.0201 - acc: 0.9940 - val_loss: 0.0990 - val_acc: 0.9841\n",
      "Epoch 15/20\n",
      "55000/55000 [==============================] - 11s 193us/sample - loss: 0.0201 - acc: 0.9945 - val_loss: 0.1095 - val_acc: 0.9832\n",
      "Epoch 16/20\n",
      "55000/55000 [==============================] - 11s 194us/sample - loss: 0.0181 - acc: 0.9943 - val_loss: 0.1151 - val_acc: 0.9808\n",
      "Epoch 17/20\n",
      "55000/55000 [==============================] - 11s 195us/sample - loss: 0.0179 - acc: 0.9951 - val_loss: 0.1225 - val_acc: 0.9817\n",
      "Epoch 18/20\n",
      "55000/55000 [==============================] - 11s 194us/sample - loss: 0.0167 - acc: 0.9952 - val_loss: 0.1134 - val_acc: 0.9841\n",
      "Epoch 19/20\n",
      "55000/55000 [==============================] - 11s 195us/sample - loss: 0.0167 - acc: 0.9950 - val_loss: 0.1176 - val_acc: 0.9835\n",
      "Epoch 20/20\n",
      "55000/55000 [==============================] - 11s 193us/sample - loss: 0.0161 - acc: 0.9955 - val_loss: 0.1318 - val_acc: 0.9838\n"
     ]
    }
   ],
   "source": [
    "history = model.fit(x_train, y_train,\n",
    "                    batch_size=batch_size,\n",
    "                    epochs=epochs,\n",
    "                    verbose=1,\n",
    "                    validation_data=(x_test, y_test))\n"
   ]
  },
  {
   "cell_type": "code",
   "execution_count": 7,
   "metadata": {},
   "outputs": [
    {
     "name": "stdout",
     "output_type": "stream",
     "text": [
      "Test loss: 0.12230103779537749\n",
      "Test accuracy: 0.9845\n"
     ]
    }
   ],
   "source": [
    "score = model.evaluate(x_test, y_test, verbose=0)\n",
    "print('Test loss:', score[0])\n",
    "print('Test accuracy:', score[1])"
   ]
  }
 ],
 "metadata": {
  "kernelspec": {
   "display_name": "Python 3",
   "language": "python",
   "name": "python3"
  },
  "language_info": {
   "codemirror_mode": {
    "name": "ipython",
    "version": 3
   },
   "file_extension": ".py",
   "mimetype": "text/x-python",
   "name": "python",
   "nbconvert_exporter": "python",
   "pygments_lexer": "ipython3",
   "version": "3.6.8"
  }
 },
 "nbformat": 4,
 "nbformat_minor": 4
}
