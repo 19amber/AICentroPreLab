{
 "cells": [
  {
   "cell_type": "code",
   "execution_count": 28,
   "metadata": {},
   "outputs": [],
   "source": [
    "import tensorflow as tf\n",
    "import numpy as np\n",
    "from tensorflow.python import keras\n",
    "import pandas as pd\n",
    "\n",
    "iris_org=pd.read_csv(\"../data/iris.csv\")\n",
    "#help(irist.drop)\n",
    "iris_org.drop(['no'],1,inplace=True)\n",
    "# Shuffling\n",
    "iris=iris_org.sample(frac=1).reset_index(drop=True)"
   ]
  },
  {
   "cell_type": "markdown",
   "metadata": {},
   "source": [
    "# Basic Encoding & One-hot Encoding"
   ]
  },
  {
   "cell_type": "code",
   "execution_count": 30,
   "metadata": {},
   "outputs": [
    {
     "data": {
      "text/plain": [
       "0        setosa\n",
       "1    versicolor\n",
       "2        setosa\n",
       "3     virginica\n",
       "4     virginica\n",
       "5        setosa\n",
       "6        setosa\n",
       "7     virginica\n",
       "8     virginica\n",
       "9    versicolor\n",
       "Name: Species, dtype: object"
      ]
     },
     "execution_count": 30,
     "metadata": {},
     "output_type": "execute_result"
    }
   ],
   "source": [
    "labels=iris['Species']\n",
    "labels.head(10)"
   ]
  },
  {
   "cell_type": "code",
   "execution_count": 38,
   "metadata": {},
   "outputs": [
    {
     "data": {
      "text/plain": [
       "[0, 1, 0, 2, 2, 0, 0, 2, 2, 1]"
      ]
     },
     "execution_count": 38,
     "metadata": {},
     "output_type": "execute_result"
    }
   ],
   "source": [
    "sets=labels.drop_duplicates().tolist()\n",
    "encoder={k:v for v,k in enumerate(sets)}\n",
    "lablels_encoded=[ encoder[i] for i in labels.tolist() ]\n",
    "lablels_encoded[:10]"
   ]
  },
  {
   "cell_type": "code",
   "execution_count": 50,
   "metadata": {},
   "outputs": [
    {
     "data": {
      "text/plain": [
       "array([[1., 0., 0.],\n",
       "       [0., 1., 0.],\n",
       "       [1., 0., 0.],\n",
       "       [0., 0., 1.],\n",
       "       [0., 0., 1.],\n",
       "       [1., 0., 0.],\n",
       "       [1., 0., 0.],\n",
       "       [0., 0., 1.],\n",
       "       [0., 0., 1.],\n",
       "       [0., 1., 0.]], dtype=float32)"
      ]
     },
     "execution_count": 50,
     "metadata": {},
     "output_type": "execute_result"
    }
   ],
   "source": [
    "lablels_one_hot_encoded = keras.utils.to_categorical(lablels_encoded, 3)\n",
    "lablels_one_hot_encoded[:10]"
   ]
  },
  {
   "cell_type": "markdown",
   "metadata": {},
   "source": [
    "# Binary Encoding"
   ]
  },
  {
   "cell_type": "code",
   "execution_count": 83,
   "metadata": {},
   "outputs": [
    {
     "data": {
      "text/plain": [
       "['1', '0', '1', '1']"
      ]
     },
     "execution_count": 83,
     "metadata": {},
     "output_type": "execute_result"
    }
   ],
   "source": [
    "su=11\n",
    "su_bin=format(f'{i:#b}')\n",
    "su_bin\n",
    "[i for i in su_bin[2:]]"
   ]
  },
  {
   "cell_type": "code",
   "execution_count": 164,
   "metadata": {},
   "outputs": [
    {
     "data": {
      "text/plain": [
       "array([0., 0., 0., 0., 1., 0., 1., 1.])"
      ]
     },
     "execution_count": 164,
     "metadata": {},
     "output_type": "execute_result"
    }
   ],
   "source": [
    "def bin_encoder(su,width=8):\n",
    "    ones=np.zeros([width])\n",
    "    su_bin=format(f'{su:#b}')\n",
    "    encoded_data=[i for i in su_bin[2:]]\n",
    "    s=width-len(encoded_data)\n",
    "    ones[s:width]=encoded_data\n",
    "    return (ones)\n",
    "\n",
    "bin_encoder(11)"
   ]
  },
  {
   "cell_type": "code",
   "execution_count": 146,
   "metadata": {},
   "outputs": [
    {
     "data": {
      "text/plain": [
       "[array([0., 0., 0., 0., 0., 0., 0., 0.]),\n",
       " array([0., 0., 0., 0., 0., 0., 1., 0.]),\n",
       " array([0., 0., 0., 0., 0., 1., 0., 0.]),\n",
       " array([0., 0., 0., 0., 1., 0., 0., 0.]),\n",
       " array([1., 1., 1., 1., 1., 1., 1., 1.])]"
      ]
     },
     "execution_count": 146,
     "metadata": {},
     "output_type": "execute_result"
    }
   ],
   "source": [
    "data1=pd.Series([0,2,4,8,255])\n",
    "data1_bin_encoded=[bin_encoder(i) for i in data1]\n",
    "data1_bin_encoded"
   ]
  },
  {
   "cell_type": "markdown",
   "metadata": {},
   "source": [
    "# Range Encoding 예\n",
    "* 값의 범위가 너무 클때\n",
    "*   x<10 →  [ 1, 0, 0, 0 ] ,  x<100 → [ 0, 1, 0, 0 ],   x<1000 →  [ 0, 0, 1, 0  ] , x=>1000 →  [ 0, 0, 0, 1]"
   ]
  },
  {
   "cell_type": "code",
   "execution_count": 181,
   "metadata": {},
   "outputs": [
    {
     "data": {
      "text/plain": [
       "array([0., 1., 0., 0.])"
      ]
     },
     "execution_count": 181,
     "metadata": {},
     "output_type": "execute_result"
    }
   ],
   "source": [
    "data2=pd.Series([1,11,111,1111,11111111111])\n",
    "\n",
    "\n",
    "def range_encoder(su):\n",
    "    triggers=[10,100,1000,float('inf')]\n",
    "    tc=len(triggers)\n",
    "    e=np.eye(tc)\n",
    "    for i in range(tc):\n",
    "        if su < triggers[i]:\n",
    "            ret = e[i]\n",
    "            break\n",
    "    return(ret)\n",
    "\n",
    "range_encoder(11)    "
   ]
  },
  {
   "cell_type": "code",
   "execution_count": 182,
   "metadata": {},
   "outputs": [
    {
     "data": {
      "text/plain": [
       "[array([1., 0., 0., 0.]),\n",
       " array([0., 1., 0., 0.]),\n",
       " array([0., 0., 1., 0.]),\n",
       " array([0., 0., 0., 1.]),\n",
       " array([0., 0., 0., 1.])]"
      ]
     },
     "execution_count": 182,
     "metadata": {},
     "output_type": "execute_result"
    }
   ],
   "source": [
    "data2_range_encoded = [ range_encoder(i) for i in data2]\n",
    "data2_range_encoded"
   ]
  },
  {
   "cell_type": "code",
   "execution_count": null,
   "metadata": {},
   "outputs": [],
   "source": []
  }
 ],
 "metadata": {
  "kernelspec": {
   "display_name": "Python 3",
   "language": "python",
   "name": "python3"
  },
  "language_info": {
   "codemirror_mode": {
    "name": "ipython",
    "version": 3
   },
   "file_extension": ".py",
   "mimetype": "text/x-python",
   "name": "python",
   "nbconvert_exporter": "python",
   "pygments_lexer": "ipython3",
   "version": "3.6.9"
  }
 },
 "nbformat": 4,
 "nbformat_minor": 4
}
