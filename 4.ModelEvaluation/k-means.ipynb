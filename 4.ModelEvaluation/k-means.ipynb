{
 "cells": [
  {
   "cell_type": "markdown",
   "metadata": {},
   "source": [
    "# k-means Example\n",
    "* Source : https://scikit-learn.org/stable/modules/generated/sklearn.cluster.KMeans.html"
   ]
  },
  {
   "cell_type": "code",
   "execution_count": null,
   "metadata": {},
   "outputs": [],
   "source": [
    "## Model Training\n",
    "## Evaluation"
   ]
  },
  {
   "cell_type": "markdown",
   "metadata": {},
   "source": []
  },
  {
   "cell_type": "markdown",
   "metadata": {},
   "source": []
  },
  {
   "cell_type": "code",
   "execution_count": 9,
   "metadata": {},
   "outputs": [
    {
     "data": {
      "text/plain": [
       "array([1, 0], dtype=int32)"
      ]
     },
     "execution_count": 9,
     "metadata": {},
     "output_type": "execute_result"
    }
   ],
   "source": []
  },
  {
   "cell_type": "markdown",
   "metadata": {},
   "source": []
  },
  {
   "cell_type": "code",
   "execution_count": 5,
   "metadata": {},
   "outputs": [
    {
     "data": {
      "text/plain": [
       "array([[10.,  2.],\n",
       "       [ 1.,  2.]])"
      ]
     },
     "execution_count": 5,
     "metadata": {},
     "output_type": "execute_result"
    }
   ],
   "source": [
    "kmeans.cluster_centers_"
   ]
  },
  {
   "cell_type": "markdown",
   "metadata": {},
   "source": [
    "*[출처] [ML] IRIS 꽃 데이터 클러스터링 with KMeans|작성자 똑똑이"
   ]
  },
  {
   "cell_type": "code",
   "execution_count": 3,
   "metadata": {},
   "outputs": [
    {
     "name": "stdout",
     "output_type": "stream",
     "text": [
      "Looking in indexes: http://aicentro-nexus-svc:8081/hub-nexus/repository/pypi-group/simple\n",
      "Collecting seaborn\n",
      "\u001b[?25l  Downloading http://aicentro-nexus-svc:8081/hub-nexus/repository/pypi-group/packages/c7/e6/54aaaafd0b87f51dfba92ba73da94151aa3bc179e5fe88fc5dfb3038e860/seaborn-0.10.1-py3-none-any.whl (215kB)\n",
      "\u001b[K     |████████████████████████████████| 225kB 24.2MB/s eta 0:00:01\n",
      "\u001b[?25hRequirement already satisfied: pandas>=0.22.0 in /usr/local/lib/python3.6/dist-packages (from seaborn) (1.0.1)\n",
      "Requirement already satisfied: numpy>=1.13.3 in /usr/local/lib/python3.6/dist-packages (from seaborn) (1.16.4)\n",
      "Requirement already satisfied: scipy>=1.0.1 in /usr/local/lib/python3.6/dist-packages (from seaborn) (1.4.1)\n",
      "Requirement already satisfied: matplotlib>=2.1.2 in /usr/local/lib/python3.6/dist-packages (from seaborn) (3.2.0)\n",
      "Requirement already satisfied: pytz>=2017.2 in /usr/local/lib/python3.6/dist-packages (from pandas>=0.22.0->seaborn) (2019.3)\n",
      "Requirement already satisfied: python-dateutil>=2.6.1 in /usr/local/lib/python3.6/dist-packages (from pandas>=0.22.0->seaborn) (2.8.0)\n",
      "Requirement already satisfied: kiwisolver>=1.0.1 in /usr/local/lib/python3.6/dist-packages (from matplotlib>=2.1.2->seaborn) (1.1.0)\n",
      "Requirement already satisfied: pyparsing!=2.0.4,!=2.1.2,!=2.1.6,>=2.0.1 in /usr/local/lib/python3.6/dist-packages (from matplotlib>=2.1.2->seaborn) (2.4.0)\n",
      "Requirement already satisfied: cycler>=0.10 in /usr/local/lib/python3.6/dist-packages (from matplotlib>=2.1.2->seaborn) (0.10.0)\n",
      "Requirement already satisfied: six>=1.5 in /usr/lib/python3/dist-packages (from python-dateutil>=2.6.1->pandas>=0.22.0->seaborn) (1.11.0)\n",
      "Requirement already satisfied: setuptools in /usr/local/lib/python3.6/dist-packages (from kiwisolver>=1.0.1->matplotlib>=2.1.2->seaborn) (41.0.1)\n",
      "Installing collected packages: seaborn\n",
      "Successfully installed seaborn-0.10.1\n",
      "\u001b[33mWARNING: You are using pip version 19.1.1, however version 20.1.1 is available.\n",
      "You should consider upgrading via the 'pip install --upgrade pip' command.\u001b[0m\n"
     ]
    }
   ],
   "source": [
    "!pip install seaborn"
   ]
  },
  {
   "cell_type": "code",
   "execution_count": 5,
   "metadata": {},
   "outputs": [],
   "source": [
    "import numpy as np\n",
    "import pandas as pd\n",
    "import seaborn as sns\n",
    "import matplotlib.pyplot as plt\n",
    "from ipywidgets import interact\n",
    "\n",
    "from sklearn import preprocessing\n",
    "from sklearn.cluster import KMeans\n",
    "from sklearn.metrics import silhouette_score"
   ]
  },
  {
   "cell_type": "code",
   "execution_count": 6,
   "metadata": {},
   "outputs": [],
   "source": [
    "# IRIS 꽃 데이터를 읽고 순서를 섞는다\n",
    "iris_df = sns.load_dataset('iris').sample(frac=1).reset_index(drop=True)"
   ]
  },
  {
   "cell_type": "code",
   "execution_count": 7,
   "metadata": {},
   "outputs": [],
   "source": [
    "# 사용할 X컬럼들과 Y컬럼을 지정한다\n",
    "x_columns = ['sepal_length', 'sepal_width', 'petal_length', 'petal_width']\n",
    "y_column  = 'species'"
   ]
  },
  {
   "cell_type": "code",
   "execution_count": 8,
   "metadata": {},
   "outputs": [],
   "source": [
    "# Y컬럼의 문자열값을 LabelEncoder를 통해 숫자로 바꾼다.\n",
    "y_true_label_encoder = preprocessing.LabelEncoder()\n",
    "y_true_encoded       = y_true_label_encoder.fit_transform(iris_df[y_column])\n",
    "\n",
    "kMeansModels              = dict() # k값별 모델 저장할 딕셔너리\n",
    "kMeansModelPreds          = dict() # k값별 모델 예측 결과 저장할 딕셔너리\n",
    "kMeansModelLabelEncoder   = dict() # k값별 라벨인코더 저장할 딕셔너리\n",
    "\n",
    "sumSquaredDistancesList   = list() # 샘플과 클러스터 센터간 거리 제곱의 합 리스트\n",
    "silhouetteScoreList       = list() # Silhouette Coefficient 평균 리스트\n",
    "\n",
    "ks = [2,3,4,5,6,7,8,9] # k값으로 2부터 9까지 테스트한다"
   ]
  },
  {
   "cell_type": "code",
   "execution_count": 9,
   "metadata": {},
   "outputs": [],
   "source": [
    "for k in ks: # k값 순회\n",
    "    model = KMeans(n_clusters=k, random_state=0, n_init=100)  # k개 클러스터로 모델 생성\n",
    "    cluster_labels = model.fit_predict(iris_df[x_columns]) # X컬럼으로 지정된 필드값으로 피팅\n",
    "    \n",
    "    y_pred_label_encoder = preprocessing.LabelEncoder() # 예측한 클러스터에서 사용할 라벨인코더\n",
    "    # 초기 임의 값 (unknown 1, unknown 2...) 으로 인코딩한다\n",
    "    y_pred_label_encoder.fit(np.array(['unknown ' + str(i+1) for i in range(0, k, 1)], dtype=object))\n",
    "    for pred_label_num in range(0,k,1): # 각 클러스터 순회        \n",
    "        # 해당 클러스터에서 가장 많이 출력한 실제 값의 인덱스를 구한다\n",
    "        most_frequent_index = np.argmax(np.bincount(y_true_encoded[cluster_labels==pred_label_num]))\n",
    "        # 구한 인덱스의 라벨을 구해서 해당클러스터 라벨로 업데이트한다\n",
    "        y_pred_label_encoder.classes_[pred_label_num] = y_true_label_encoder.classes_[most_frequent_index]\n",
    "    \n",
    "    kMeansModels[k]     = model                       # 모델 저장\n",
    "    kMeansModelPreds[k] = cluster_labels              # 모델 예측결과 저장     \n",
    "    kMeansModelLabelEncoder[k] = y_pred_label_encoder # 라벨인코더 저장\n",
    "    sumSquaredDistancesList.append(model.inertia_)    # # 샘플과 클러스터 센터간 거리 제곱의 합 저장\n",
    "    silhouetteScoreList.append(silhouette_score(iris_df[x_columns].values, cluster_labels)) # Silhouette Score저장"
   ]
  },
  {
   "cell_type": "code",
   "execution_count": 10,
   "metadata": {},
   "outputs": [],
   "source": [
    "def render_plot(x_col='petal_length', y_col='petal_width', k=3):\n",
    "    y_pred        = kMeansModelPreds[k]        # 모델 예측값\n",
    "    label_encoder = kMeansModelLabelEncoder[k] # 라벨인코더\n",
    "    \n",
    "    # 원본과 예측값을 합쳐 데이터셋을 준비\n",
    "    mdf = pd.concat([iris_df, pd.DataFrame(label_encoder.inverse_transform(y_pred), columns=[y_column+'_pred'])], axis=1)\n",
    "    \n",
    "    plt.figure(figsize=(15,8)) # 출력 크기를 지정\n",
    "    \n",
    "    ddf = mdf[mdf[y_column] != mdf[y_column+'_pred']] # 실제라벨과 예측라벨이 틀린 경우 추출\n",
    "    # X기호로 error임을 표시한다\n",
    "    plt.scatter(x=ddf[x_col], y=ddf[y_col], c='black', marker='x', s=300, label='error') \n",
    "    \n",
    "    colors = ['blue', 'red', 'green', 'cyan', 'magenta', 'yellow', 'black'] # 컬러값 리스트\n",
    "    for (idx,cls) in enumerate(list(y_true_label_encoder.classes_)):\n",
    "        ddf = mdf[mdf[y_column] == cls] # 실제라벨 데이터는 작은 점으로 출력\n",
    "        plt.scatter(x=ddf[x_col], y=ddf[y_col], c=colors[idx], marker='.', linewidths=3, s=50, label=cls)\n",
    "        ddf = mdf[mdf[y_column+'_pred'] == cls] # 예측라벨 데이터는 큰 원으로 출력\n",
    "        plt.scatter(x=ddf[x_col], y=ddf[y_col], c=colors[idx], marker='o', linewidths=13, s=2, label=cls+' pred')\n",
    "    \n",
    "    plt.legend();plt.xlabel(x_col);plt.ylabel(y_col)\n",
    "    print('accuracy {:.2f}'.format(np.mean(mdf[y_column] == mdf[y_column+'_pred']))) # 정확도 출력\n",
    "    plt.show()\n",
    "    "
   ]
  },
  {
   "cell_type": "code",
   "execution_count": 10,
   "metadata": {},
   "outputs": [
    {
     "name": "stdout",
     "output_type": "stream",
     "text": [
      "accuracy 0.89\n"
     ]
    },
    {
     "data": {
      "image/png": "[encoded data removed]",
      "text/plain": [
       "<Figure size 1080x576 with 1 Axes>"
      ]
     },
     "metadata": {
      "needs_background": "light"
     },
     "output_type": "display_data"
    },
    {
     "data": {
      "text/plain": [
       "<function __main__.render_plot(x_col='petal_length', y_col='petal_width', k=3)>"
      ]
     },
     "execution_count": 10,
     "metadata": {},
     "output_type": "execute_result"
    }
   ],
   "source": [
    "interact(render_plot, x_col=x_columns, y_col=x_columns, k=ks)"
   ]
  },
  {
   "cell_type": "markdown",
   "metadata": {},
   "source": [
    "## Model"
   ]
  },
  {
   "cell_type": "code",
   "execution_count": 12,
   "metadata": {},
   "outputs": [
    {
     "data": {
      "text/plain": [
       "array([[5.62857143, 2.72380952, 4.13333333, 1.2952381 ],\n",
       "       [5.07142857, 3.5047619 , 1.53809524, 0.28095238],\n",
       "       [7.475     , 3.125     , 6.3       , 2.05      ],\n",
       "       [6.02777778, 2.73333333, 5.02777778, 1.79444444],\n",
       "       [6.56818182, 3.08636364, 5.53636364, 2.16363636],\n",
       "       [5.24285714, 2.37142857, 3.44285714, 1.02857143],\n",
       "       [5.49      , 3.92      , 1.46      , 0.26      ],\n",
       "       [6.43      , 2.94      , 4.59      , 1.435     ],\n",
       "       [4.67894737, 3.08421053, 1.37894737, 0.2       ]])"
      ]
     },
     "execution_count": 12,
     "metadata": {},
     "output_type": "execute_result"
    }
   ],
   "source": [
    "model.cluster_centers_"
   ]
  },
  {
   "cell_type": "code",
   "execution_count": null,
   "metadata": {},
   "outputs": [],
   "source": []
  }
 ],
 "metadata": {
  "kernelspec": {
   "display_name": "Python 3",
   "language": "python",
   "name": "python3"
  },
  "language_info": {
   "codemirror_mode": {
    "name": "ipython",
    "version": 3
   },
   "file_extension": ".py",
   "mimetype": "text/x-python",
   "name": "python",
   "nbconvert_exporter": "python",
   "pygments_lexer": "ipython3",
   "version": "3.6.8"
  }
 },
 "nbformat": 4,
 "nbformat_minor": 4
}
